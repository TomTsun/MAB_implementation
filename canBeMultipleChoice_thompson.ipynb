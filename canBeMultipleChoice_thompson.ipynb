{
 "cells": [
  {
   "cell_type": "code",
   "execution_count": null,
   "metadata": {
    "id": "qJTeGJE4SwL6"
   },
   "outputs": [],
   "source": [
    "import numpy as np\n",
    "import math\n",
    "import itertools\n",
    "import pandas as pd\n",
    "import random\n",
    "import matplotlib.pyplot as plt"
   ]
  },
  {
   "cell_type": "code",
   "execution_count": null,
   "metadata": {
    "id": "aFRfQA13eHbD"
   },
   "outputs": [],
   "source": [
    "prices = {'A': 2500, 'B': 900, 'C': 830, 'D': 820, 'E': 1000}\n",
    "preferences_god_view = {'A': 1, 'B': 1.5, 'C': 2, 'D': 2.5, 'E': 3}\n",
    "user_preferences = {'A': 1, 'B': 1, 'C': 1, 'D': 1, 'E': 1}\n",
    "all_combinations = np.array(list(itertools.combinations(preferences_god_view, 2)))\n",
    "expect = []\n",
    "expect_prob = []"
   ]
  },
  {
   "cell_type": "code",
   "execution_count": null,
   "metadata": {
    "colab": {
     "base_uri": "https://localhost:8080/"
    },
    "id": "ZngyJ7H2hJCD",
    "outputId": "51fe20a0-54f5-4ba1-82ae-2a35755249fa"
   },
   "outputs": [],
   "source": [
    "all_combinations"
   ]
  },
  {
   "cell_type": "code",
   "execution_count": null,
   "metadata": {
    "colab": {
     "base_uri": "https://localhost:8080/"
    },
    "id": "H6isH1OQiIFY",
    "outputId": "558c9b71-8261-4aff-9357-b200eb80da03"
   },
   "outputs": [],
   "source": [
    "all_combinations[0]\n",
    "len(all_combinations[0])"
   ]
  },
  {
   "cell_type": "code",
   "execution_count": null,
   "metadata": {
    "id": "Pz4rFwQydmFj"
   },
   "outputs": [],
   "source": [
    "def BTL(S_t, user_preferences):\n",
    "    # Calculate probabilities using Bradley-Terry-Luce model\n",
    "    exp_preference_program=[]\n",
    "    total_exp = 1 #include no purchase\n",
    "\n",
    "    for i in range(len(S_t)):\n",
    "      temp = np.exp(user_preferences[S_t[i]])\n",
    "      total_exp = total_exp + temp\n",
    "      exp_preference_program.append(temp)\n",
    "\n",
    "    exp_no_purchase = 1\n",
    "    p_item = [1/total_exp]\n",
    "    for j in range(len(S_t)):\n",
    "      temp = exp_preference_program[j] / total_exp\n",
    "      #print(exp_preference_program[j])\n",
    "      p_item.append(temp)\n",
    "    return p_item\n",
    "\n",
    "def calculate_single_expectation(current_S_t, programs_prices, user_preferences):\n",
    "  purchase_probability_vector_by_mu = BTL(current_S_t, user_preferences)\n",
    "  coresponding_prices=[0]\n",
    "  for i in range(len(purchase_probability_vector_by_mu)-1):\n",
    "    temp = programs_prices[current_S_t[i]]\n",
    "    coresponding_prices.append(temp)\n",
    "  #print(purchase_probability_vector_by_mu)\n",
    "  #print(coresponding_prices)\n",
    "\n",
    "  expectation = np.sum(np.array(purchase_probability_vector_by_mu) * np.array(coresponding_prices))\n",
    "\n",
    "  return purchase_probability_vector_by_mu, expectation"
   ]
  },
  {
   "cell_type": "code",
   "execution_count": null,
   "metadata": {
    "colab": {
     "base_uri": "https://localhost:8080/"
    },
    "id": "RyVl_crlBtDu",
    "outputId": "e479fa0c-47d3-4993-e4c6-b03ecae8ee2c"
   },
   "outputs": [],
   "source": [
    "BTL(['A', 'B', 'C'], preferences_god_view) # for example"
   ]
  },
  {
   "cell_type": "code",
   "execution_count": null,
   "metadata": {
    "colab": {
     "base_uri": "https://localhost:8080/"
    },
    "id": "Q4XoQGP3FRD1",
    "outputId": "7d935099-51e1-4b09-d414-0ffad4684ff2"
   },
   "outputs": [],
   "source": [
    "calculate_single_expectation(['A', 'B'], prices, preferences_god_view) # for example"
   ]
  },
  {
   "cell_type": "code",
   "execution_count": null,
   "metadata": {
    "id": "dliWP76-EUqN"
   },
   "outputs": [],
   "source": [
    "def epilson_greedy_mab(epilson, S_t, programs_combinations):\n",
    "  # 設定 S_t 出現的機率為 1 - epilson，其他的機率平均分配epilson\n",
    "  probabilities = [1 - epilson if strategy == S_t else (epilson) / (len(programs_combinations) - 1) for strategy in programs_combinations]\n",
    "  # 根據機率選擇策略\n",
    "  selected_S_t = random.choices(programs_combinations, probabilities)[0]\n",
    "  return selected_S_t\n",
    "def find_best_expectation(programs_prices, user_preferences, how_many_a_set_has):\n",
    "  programs_combinations = list(itertools.combinations(user_preferences, 2))\n",
    "  print(\"programs_combinations:\", programs_combinations)\n",
    "\n",
    "  purchase_probability_vector_by_mu_list = []\n",
    "  expectation_list = []\n",
    "  for current_S_t in programs_combinations:\n",
    "    purchase_probability_vector_by_mu, expectation = calculate_single_expectation(current_S_t, programs_prices, user_preferences)\n",
    "    purchase_probability_vector_by_mu_list.append(purchase_probability_vector_by_mu)\n",
    "    expectation_list.append(expectation)\n",
    "\n",
    "  data = {\n",
    "    'S_t': programs_combinations,\n",
    "    'Purchase Probability': purchase_probability_vector_by_mu_list,\n",
    "    'Expectation': expectation_list\n",
    "  }\n",
    "  df = pd.DataFrame(data)\n",
    "  # df = df.round({'Purchase Probability': 2, 'Expectation': 2})\n",
    "  print(df)\n",
    "\n",
    "  best_S_t = programs_combinations[expectation_list.index(max(expectation_list))]\n",
    "  best_expectation = expectation_list[expectation_list.index(max(expectation_list))]\n",
    "\n",
    "  selected_S_t = epilson_greedy_mab(0.5, best_S_t, programs_combinations)\n",
    "  selected_expectation = expectation_list[programs_combinations.index(selected_S_t)]\n",
    "\n",
    "  print(\"best_S_t:\", best_S_t, \"expectation = \", best_expectation)\n",
    "  print(\"selected_S_t:\", selected_S_t, \"expectation = \", selected_expectation)\n",
    "  if best_S_t == selected_S_t:\n",
    "    print(\"-------------Exploitation-------------\")\n",
    "  else:\n",
    "    print(\"-------------Exploration--------------\")\n",
    "  return selected_S_t"
   ]
  },
  {
   "cell_type": "code",
   "execution_count": null,
   "metadata": {
    "colab": {
     "base_uri": "https://localhost:8080/"
    },
    "id": "j2JyamL2EhqU",
    "outputId": "4c16b7e1-9122-4bdd-fee5-e449ad79658e"
   },
   "outputs": [],
   "source": [
    "find_best_expectation(prices, preferences_god_view, 2) #from God's view"
   ]
  },
  {
   "cell_type": "code",
   "execution_count": null,
   "metadata": {
    "colab": {
     "base_uri": "https://localhost:8080/"
    },
    "id": "JSGBoM93Nl7F",
    "outputId": "0e218493-6b07-4f7e-c4b8-86ef88a3bf49"
   },
   "outputs": [],
   "source": [
    "selected_S_t=['A', 'B']\n",
    "temp_user_preference={}\n",
    "for strategy in selected_S_t:\n",
    "    temp_user_preference[strategy] = 0\n",
    "print(temp_user_preference)"
   ]
  },
  {
   "cell_type": "code",
   "execution_count": null,
   "metadata": {
    "id": "zNksEVsFHbQn"
   },
   "outputs": [],
   "source": [
    "def generate_U_by_Gumbel(user_preferences):\n",
    "  #Gumbel 分佈的均值是歐拉常數γ，約為 0.57721\n",
    "  random_vars = np.random.gumbel(size=len(user_preferences), scale = 0.01)\n",
    "  randomized_user_preference = {item: max(0, pref + rv) for (item, pref), rv in zip(user_preferences.items(), random_vars)}\n",
    "  #print(\"U(randomized_user_preference)this iteration\", randomized_user_preference)\n",
    "  return randomized_user_preference\n",
    "\n",
    "def user_purchase_decision_generator(selected_S_t, randomized_user_preference):\n",
    "  purchase_probability_vector_by_U = BTL(selected_S_t, randomized_user_preference)\n",
    "  # print(\"purchase prob: \", purchase_probability_vector_by_U)\n",
    "\n",
    "  purchase_decision_index = np.random.choice(len(purchase_probability_vector_by_U), p=purchase_probability_vector_by_U)\n",
    "\n",
    "  if purchase_decision_index == 0:\n",
    "    print(\"user_purchase_decision\", \"buy nothing\")\n",
    "    return 0\n",
    "  else:\n",
    "    print(\"user_purchase_decision\", \"buy\", selected_S_t[purchase_decision_index-1])\n",
    "    return purchase_decision_index\n",
    "\n",
    "\n",
    "def user_purchase_histories_updater(selected_S_t, user_purchase_decision, user_purchase_histories):\n",
    "  if user_purchase_decision == 0:\n",
    "    user_purchase_histories[selected_S_t][0]+=1\n",
    "  else:\n",
    "    user_purchase_histories[selected_S_t][user_purchase_decision]+=1\n",
    "\n",
    "  return user_purchase_histories\n",
    "\n",
    "def user_preference_updater(selected_S_t, user_preferences, user_purchase_histories):\n",
    "  if np.any(user_purchase_histories[selected_S_t] == 0):\n",
    "    return user_preferences\n",
    "\n",
    "  total_decision_by_selected_S_t = 0\n",
    "  for i in range(len(user_purchase_histories[selected_S_t])):\n",
    "    total_decision_by_selected_S_t = user_purchase_histories[selected_S_t][i]\n",
    "  user_purchase_probabilities_by_purchase_history = []\n",
    "  for i in range(len(user_purchase_histories[selected_S_t])):\n",
    "    user_purchase_probabilities_by_purchase_history.append(user_purchase_histories[selected_S_t][i] / total_decision_by_selected_S_t)\n",
    "\n",
    "  temp_user_preference = {}\n",
    "  for strategy in selected_S_t:\n",
    "    temp_user_preference[strategy] = 0\n",
    "  i = 1\n",
    "  for strategy in selected_S_t:\n",
    "    temp_user_preference[strategy] = math.log(user_purchase_probabilities_by_purchase_history[i] / user_purchase_probabilities_by_purchase_history[0])\n",
    "    i = i + 1\n",
    "\n",
    "  print(\"temp_user_preference\", temp_user_preference)\n",
    "  print(\"user_preferences\", user_preferences)\n",
    "\n",
    "  for j in range(len(selected_S_t)):\n",
    "    user_preferences[selected_S_t[j]] = (user_preferences[selected_S_t[j]])*0.2 + (temp_user_preference[selected_S_t[j]])*0.8\n",
    "  print(\"updated_user_preferences\", user_preferences)\n",
    "  print(\"--------------------------------------\")\n",
    "  return user_preferences"
   ]
  },
  {
   "cell_type": "code",
   "execution_count": null,
   "metadata": {
    "id": "KtDiLXv4jUKC"
   },
   "outputs": [],
   "source": [
    "def normalized(x, listOf):\n",
    "  x_normalized = (x - min(listOf)) / (max(listOf) - min(listOf))\n",
    "  return x_normalized\n"
   ]
  },
  {
   "cell_type": "code",
   "execution_count": null,
   "metadata": {
    "id": "1RMVe1bRXcAI"
   },
   "outputs": [],
   "source": [
    "programs_prices = {'A': 2500, 'B': 900, 'C': 830, 'D': 820, 'E': 1000}\n",
    "#user_preferences_god_view = [{'A': 1, 'B': 2, 'C': 3, 'D': 4, 'E': 5}, {'A': 2, 'B': 2, 'C': 3, 'D': 4, 'E': 3}]\n",
    "user_preferences_god_view = {'A': 1, 'B': 2, 'C': 3, 'D': 4, 'E': 5}\n",
    "all_combinations = np.array(list(itertools.combinations(preferences_god_view, 2)))\n",
    "expect = []\n",
    "expect_prob = []\n",
    "\n",
    "# 10 means 旅行商所有推薦組合, 3 ,means推薦某個組合時會有的 3 個情況\n",
    "user_purchase_histories = {}\n",
    "\n",
    "# 創建所有可能的從 'A' 到 'E' 的排列組合\n",
    "locations = ['A', 'B', 'C', 'D', 'E']\n",
    "combinations = list(itertools.combinations(locations, 2))\n",
    "# 對每個字典進行初始化\n",
    "for combination in combinations:\n",
    "  user_purchase_histories[combination] = np.array([0, 0, 0])\n"
   ]
  },
  {
   "cell_type": "markdown",
   "metadata": {
    "id": "ZHLNMC1TBMzW"
   },
   "source": [
    "--------------------------------------------------------------------------------"
   ]
  },
  {
   "cell_type": "code",
   "execution_count": null,
   "metadata": {
    "id": "E9BNw9Qf_Mdl"
   },
   "outputs": [],
   "source": [
    "def thompson_sampling_mab(programs_combinations, successes, failures):\n",
    "  # 使用Beta分佈來表示每個策略的概率\n",
    "  beta_parameters = [(successes[strategy] + 1, failures[strategy] + 1) for strategy in programs_combinations]\n",
    "\n",
    "  # 從每個策略的Beta分佈中抽樣一個值，並選擇具有最高抽樣值的策略\n",
    "  sampled_values = [np.random.beta(alpha, beta) for alpha, beta in beta_parameters]\n",
    "  print(sampled_values)\n",
    "\n",
    "  #combined_scores = [sampled_value + price for sampled_value, price in zip(sampled_values, programs_prices)]\n",
    "\n",
    "  selected_index = np.argmax(sampled_values)\n",
    "  selected_S_t = programs_combinations[selected_index]\n",
    "\n",
    "  return selected_S_t"
   ]
  },
  {
   "cell_type": "code",
   "execution_count": null,
   "metadata": {
    "colab": {
     "base_uri": "https://localhost:8080/"
    },
    "id": "8qD7VcyCUKMf",
    "outputId": "bf313cbf-bae1-43e1-fbf4-8d77f82b3d10"
   },
   "outputs": [],
   "source": [
    "programs_combinations = list(itertools.combinations(user_preferences, 2))\n",
    "successes = {}\n",
    "failures = {}\n",
    "for strategy_pair in programs_combinations:\n",
    "  successes[strategy_pair] = 0\n",
    "  failures[strategy_pair] = 0\n",
    "thompson_sampling_mab(programs_combinations, successes, failures)"
   ]
  },
  {
   "cell_type": "code",
   "execution_count": null,
   "metadata": {
    "id": "pGIQ_TmpMU89"
   },
   "outputs": [],
   "source": [
    "def find_best_expectation_thompson(programs_prices, user_preferences, successes, failures, how_many_a_set_has):\n",
    "  programs_combinations = list(itertools.combinations(user_preferences, how_many_a_set_has))\n",
    "  print(\"programs_combinations:\", programs_combinations)\n",
    "\n",
    "  purchase_probability_vector_by_mu_list = []\n",
    "  expectation_list = []\n",
    "  for current_S_t in programs_combinations:\n",
    "    purchase_probability_vector_by_mu, expectation = calculate_single_expectation(current_S_t, programs_prices, user_preferences)\n",
    "    purchase_probability_vector_by_mu_list.append(purchase_probability_vector_by_mu)\n",
    "    expectation_list.append(expectation)\n",
    "\n",
    "  data = {\n",
    "    'S_t': programs_combinations,\n",
    "    'Purchase Probability': purchase_probability_vector_by_mu_list,\n",
    "    'Expectation': expectation_list\n",
    "  }\n",
    "  df = pd.DataFrame(data)\n",
    "  # df = df.round({'Purchase Probability': 2, 'Expectation': 2})\n",
    "  # print(df)\n",
    "\n",
    "  best_S_t = programs_combinations[expectation_list.index(max(expectation_list))]\n",
    "  best_expectation = expectation_list[expectation_list.index(max(expectation_list))]\n",
    "\n",
    "  # selected_S_t = epilson_greedy_mab(0.5, best_S_t, programs_combinations)\n",
    "  # selected_expectation = expectation_list[programs_combinations.index(selected_S_t)]\n",
    "\n",
    "  selected_S_t = thompson_sampling_mab(programs_combinations, successes, failures)\n",
    "  selected_expectation = expectation_list[programs_combinations.index(selected_S_t)]\n",
    "\n",
    "  # print(\"best_S_t:\", best_S_t, \"expectation = \", best_expectation)\n",
    "  # print(\"selected_S_t:\", selected_S_t, \"expectation = \", selected_expectation)\n",
    "  if best_S_t == selected_S_t:\n",
    "    print(\"-------------Exploitation-------------\")\n",
    "  else:\n",
    "    print(\"-------------Exploration--------------\")\n",
    "  return selected_S_t"
   ]
  },
  {
   "cell_type": "code",
   "execution_count": null,
   "metadata": {},
   "outputs": [],
   "source": [
    "iterations = 1000\n",
    "times = 500\n",
    "how_many_a_set_has = 2\n",
    "final = []\n",
    "\n",
    "for j in range(times):\n",
    "    all_earn = 0\n",
    "    a=[]\n",
    "    b=[]\n",
    "    user_purchase_decision = {'A': 0, 'B': 0, 'C': 0, 'D': 0, 'E': 0}\n",
    "    cumulation = []\n",
    "    select=[]\n",
    "    successes = {}\n",
    "    failures = {}\n",
    "    for strategy_pair in programs_combinations:\n",
    "        successes[strategy_pair] = 0\n",
    "        failures[strategy_pair] = 0\n",
    "\n",
    "    for combination in combinations:\n",
    "        user_purchase_histories[combination] = np.array([0, 0, 0])\n",
    "\n",
    "    for i in range(iterations):\n",
    "        print(\"iteration\", i)\n",
    "        selected_S_t = find_best_expectation_thompson(programs_prices, user_preferences, successes, failures, how_many_a_set_has)\n",
    "        randomized_user_preference = generate_U_by_Gumbel(user_preferences_god_view)\n",
    "        user_purchase_decision = user_purchase_decision_generator(selected_S_t, randomized_user_preference)\n",
    "        user_purchase_histories = user_purchase_histories_updater(selected_S_t, user_purchase_decision, user_purchase_histories)\n",
    "        p = programs_prices[selected_S_t[user_purchase_decision-1]]\n",
    "\n",
    "        select.append(selected_S_t)\n",
    "\n",
    "        if user_purchase_decision != 0 and p > 1200:\n",
    "            successes[selected_S_t] += 1\n",
    "        else:\n",
    "            failures[selected_S_t] += 1\n",
    "\n",
    "        a.append(user_preferences['E'])\n",
    "\n",
    "        all_earn = all_earn + programs_prices[selected_S_t[user_purchase_decision-1]]\n",
    "        cumulation.append(all_earn)\n",
    "\n",
    "        user_preferences = user_preference_updater(selected_S_t, user_preferences, user_purchase_histories)\n",
    "        # print(\"mu(user_preferences):\", user_preferences)\n",
    "        # print(\"history:　\", user_purchase_histories)\n",
    "        # print(\"______________________________________________________________________________________________\")\n",
    "\n",
    "        b.append(user_preferences['E'])\n",
    "    final.append(all_earn)\n",
    "\n",
    "print(final)"
   ]
  },
  {
   "cell_type": "code",
   "execution_count": null,
   "metadata": {},
   "outputs": [],
   "source": [
    "import matplotlib.pyplot as plt\n",
    "\n",
    "# 定義組合\n",
    "combinations = [('A', 'B'), ('A', 'C'), ('A', 'D'), ('A', 'E'), ('B', 'C'), ('B', 'D'), ('B', 'E'), ('C', 'D'), ('C', 'E'), ('D', 'E')]\n",
    "\n",
    "# 迭代次數\n",
    "iterations = 1000\n",
    "\n",
    "# 以下資料為散布圖所用的1000筆資料\n",
    "selected_combinations = [('D', 'E'), ('B', 'D'), ('B', 'C'), ('C', 'D'), ('B', 'E'), ('A', 'C'), ('C', 'E'), ('B', 'C'), ('A', 'D'), ('C', 'E'), ('A', 'E'), ('B', 'E'), ('A', 'D'), ('A', 'B'), ('A', 'B'), ('A', 'B'), ('A', 'E'), ('C', 'D'), ('A', 'B'), ('A', 'D'), ('A', 'B'), ('A', 'B'), ('D', 'E'), ('B', 'C'), ('A', 'E'), ('C', 'E'), ('A', 'B'), ('C', 'D'), ('D', 'E'), ('C', 'D'), ('B', 'D'), ('A', 'C'), ('A', 'B'), ('B', 'D'), ('A', 'E'), ('A', 'B'), ('B', 'C'), ('C', 'E'), ('B', 'E'), ('A', 'B'), ('B', 'E'), ('D', 'E'), ('B', 'D'), ('B', 'E'), ('A', 'B'), ('A', 'B'), ('A', 'B'), ('A', 'B'), ('A', 'B'), ('A', 'B'), ('B', 'D'), ('A', 'B'), ('A', 'B'), ('A', 'B'), ('A', 'D'), ('A', 'D'), ('A', 'B'), ('A', 'B'), ('A', 'B'), ('A', 'B'), ('A', 'B'), ('C', 'D'), ('A', 'B'), ('A', 'B'), ('A', 'B'), ('A', 'B'), ('A', 'C'), ('B', 'C'), ('A', 'B'), ('A', 'B'), ('A', 'B'), ('B', 'C'), ('B', 'E'), ('A', 'D'), ('B', 'D'), ('A', 'B'), ('A', 'B'), ('A', 'B'), ('A', 'D'), ('A', 'B'), ('A', 'E'), ('A', 'C'), ('A', 'C'), ('A', 'B'), ('A', 'B'), ('A', 'B'), ('A', 'B'), ('A', 'C'), ('B', 'D'), ('D', 'E'), ('A', 'C'), ('A', 'B'), ('A', 'B'), ('A', 'B'), ('A', 'C'), ('A', 'B'), ('A', 'B'), ('C', 'D'), ('A', 'B'), ('C', 'E'), ('A', 'B'), ('A', 'C'), ('A', 'B'), ('A', 'B'), ('A', 'B'), ('A', 'B'), ('A', 'D'), ('A', 'B'), ('A', 'B'), ('A', 'C'), ('B', 'C'), ('A', 'B'), ('A', 'C'), ('A', 'B'), ('A', 'B'), ('A', 'B'), ('A', 'B'), ('C', 'D'), ('D', 'E'), ('A', 'B'), ('A', 'B'), ('C', 'E'), ('A', 'E'), ('B', 'D'), ('A', 'B'), ('A', 'B'), ('A', 'B'), ('A', 'B'), ('A', 'B'), ('A', 'B'), ('A', 'B'), ('A', 'B'), ('A', 'B'), ('A', 'B'), ('D', 'E'), ('A', 'B'), ('A', 'B'), ('A', 'D'), ('B', 'D'), ('B', 'C'), ('A', 'B'), ('A', 'B'), ('A', 'B'), ('C', 'E'), ('B', 'E'), ('A', 'B'), ('C', 'D'), ('C', 'E'), ('A', 'B'), ('A', 'B'), ('A', 'C'), ('A', 'C'), ('A', 'C'), ('A', 'B'), ('A', 'B'), ('A', 'B'), ('C', 'E'), ('A', 'B'), ('A', 'B'), ('A', 'B'), ('A', 'B'), ('A', 'B'), ('A', 'B'), ('A', 'B'), ('A', 'E'), ('A', 'B'), ('A', 'B'), ('A', 'B'), ('A', 'B'), ('A', 'B'), ('C', 'D'), ('A', 'B'), ('A', 'E'), ('A', 'B'), ('A', 'B'), ('A', 'B'), ('A', 'B'), ('A', 'B'), ('A', 'B'), ('D', 'E'), ('A', 'B'), ('C', 'E'), ('A', 'B'), ('A', 'B'), ('A', 'B'), ('A', 'B'), ('A', 'C'), ('A', 'B'), ('A', 'B'), ('B', 'C'), ('A', 'B'), ('A', 'B'), ('A', 'B'), ('A', 'B'), ('A', 'B'), ('A', 'B'), ('A', 'C'), ('B', 'E'), ('C', 'D'), ('A', 'B'), ('A', 'B'), ('A', 'B'), ('A', 'B'), ('A', 'B'), ('A', 'B'), ('A', 'B'), ('A', 'B'), ('A', 'B'), ('A', 'B'), ('A', 'C'), ('B', 'E'), ('A', 'E'), ('A', 'B'), ('D', 'E'), ('A', 'B'), ('A', 'B'), ('A', 'B'), ('A', 'B'), ('A', 'B'), ('A', 'B'), ('A', 'B'), ('A', 'B'), ('A', 'B'), ('A', 'B'), ('A', 'B'), ('A', 'B'), ('A', 'B'), ('B', 'C'), ('A', 'B'), ('A', 'C'), ('A', 'B'), ('A', 'B'), ('A', 'B'), ('A', 'B'), ('A', 'B'), ('A', 'E'), ('A', 'B'), ('B', 'D'), ('A', 'B'), ('A', 'C'), ('A', 'B'), ('A', 'B'), ('A', 'B'), ('A', 'B'), ('A', 'B'), ('B', 'E'), ('A', 'B'), ('A', 'B'), ('A', 'B'), ('A', 'B'), ('C', 'D'), ('A', 'B'), ('A', 'B'), ('A', 'B'), ('A', 'D'), ('A', 'B'), ('B', 'C'), ('A', 'B'), ('A', 'B'), ('A', 'B'), ('A', 'B'), ('A', 'B'), ('A', 'B'), ('A', 'B'), ('A', 'B'), ('D', 'E'), ('A', 'B'), ('A', 'B'), ('A', 'B'), ('A', 'B'), ('A', 'B'), ('A', 'B'), ('A', 'B'), ('A', 'B'), ('A', 'B'), ('A', 'B'), ('A', 'B'), ('A', 'B'), ('A', 'B'), ('A', 'B'), ('A', 'B'), ('A', 'B'), ('A', 'B'), ('A', 'B'), ('A', 'B'), ('A', 'B'), ('B', 'C'), ('A', 'B'), ('D', 'E'), ('A', 'B'), ('A', 'B'), ('A', 'B'), ('A', 'B'), ('A', 'B'), ('A', 'B'), ('A', 'B'), ('A', 'B'), ('A', 'B'), ('A', 'B'), ('A', 'C'), ('A', 'B'), ('A', 'B'), ('A', 'B'), ('A', 'B'), ('A', 'B'), ('A', 'B'), ('A', 'D'), ('A', 'E'), ('A', 'B'), ('A', 'B'), ('A', 'B'), ('A', 'B'), ('A', 'B'), ('A', 'B'), ('A', 'B'), ('B', 'E'), ('A', 'B'), ('C', 'E'), ('A', 'B'), ('A', 'B'), ('A', 'D'), ('A', 'B'), ('A', 'B'), ('A', 'B'), ('A', 'B'), ('A', 'B'), ('A', 'B'), ('D', 'E'), ('A', 'B'), ('A', 'B'), ('B', 'C'), ('A', 'B'), ('A', 'B'), ('A', 'B'), ('A', 'B'), ('A', 'B'), ('C', 'E'), ('A', 'D'), ('A', 'B'), ('A', 'B'), ('A', 'B'), ('A', 'B'), ('A', 'B'), ('A', 'B'), ('A', 'B'), ('A', 'B'), ('A', 'B'), ('A', 'B'), ('A', 'B'), ('A', 'B'), ('A', 'B'), ('A', 'B'), ('A', 'B'), ('A', 'B'), ('A', 'B'), ('A', 'B'), ('A', 'B'), ('A', 'B'), ('A', 'B'), ('A', 'C'), ('A', 'B'), ('B', 'D'), ('A', 'B'), ('A', 'B'), ('A', 'C'), ('A', 'B'), ('C', 'E'), ('A', 'E'), ('A', 'D'), ('A', 'B'), ('A', 'B'), ('A', 'B'), ('A', 'B'), ('A', 'B'), ('A', 'B'), ('A', 'B'), ('A', 'B'), ('A', 'B'), ('A', 'B'), ('B', 'E'), ('A', 'B'), ('A', 'B'), ('A', 'B'), ('A', 'B'), ('A', 'B'), ('A', 'B'), ('A', 'B'), ('A', 'B'), ('A', 'C'), ('A', 'B'), ('A', 'B'), ('A', 'B'), ('A', 'B'), ('A', 'B'), ('A', 'B'), ('A', 'B'), ('A', 'B'), ('A', 'B'), ('A', 'E'), ('A', 'B'), ('A', 'B'), ('A', 'B'), ('A', 'B'), ('A', 'B'), ('A', 'D'), ('C', 'E'), ('A', 'B'), ('A', 'C'), ('A', 'B'), ('C', 'D'), ('A', 'B'), ('A', 'B'), ('A', 'B'), ('A', 'B'), ('A', 'B'), ('A', 'B'), ('A', 'B'), ('B', 'C'), ('A', 'B'), ('D', 'E'), ('A', 'B'), ('A', 'B'), ('A', 'B'), ('A', 'B'), ('A', 'B'), ('A', 'B'), ('A', 'B'), ('A', 'B'), ('A', 'B'), ('A', 'B'), ('B', 'D'), ('A', 'B'), ('A', 'B'), ('A', 'B'), ('A', 'B'), ('A', 'B'), ('A', 'B'), ('A', 'B'), ('A', 'B'), ('A', 'B'), ('A', 'B'), ('A', 'B'), ('A', 'B'), ('A', 'B'), ('A', 'B'), ('A', 'B'), ('A', 'B'), ('A', 'B'), ('D', 'E'), ('A', 'B'), ('A', 'B'), ('A', 'B'), ('A', 'B'), ('A', 'B'), ('A', 'E'), ('A', 'B'), ('A', 'B'), ('A', 'B'), ('A', 'B'), ('A', 'B'), ('A', 'B'), ('A', 'B'), ('A', 'B'), ('A', 'B'), ('A', 'B'), ('A', 'B'), ('A', 'B'), ('A', 'B'), ('A', 'B'), ('A', 'B'), ('A', 'B'), ('A', 'B'), ('A', 'B'), ('A', 'B'), ('A', 'E'), ('A', 'B'), ('A', 'B'), ('B', 'E'), ('A', 'B'), ('A', 'B'), ('A', 'B'), ('A', 'B'), ('A', 'B'), ('A', 'B'), ('A', 'B'), ('A', 'B'), ('A', 'B'), ('A', 'B'), ('A', 'B'), ('A', 'B'), ('A', 'B'), ('A', 'C'), ('A', 'B'), ('B', 'D'), ('A', 'B'), ('A', 'B'), ('A', 'B'), ('A', 'B'), ('A', 'B'), ('C', 'E'), ('A', 'B'), ('C', 'E'), ('A', 'E'), ('A', 'B'), ('A', 'C'), ('A', 'B'), ('A', 'B'), ('A', 'B'), ('A', 'B'), ('A', 'B'), ('A', 'B'), ('A', 'B'), ('A', 'B'), ('A', 'B'), ('A', 'B'), ('A', 'B'), ('A', 'B'), ('A', 'B'), ('A', 'B'), ('A', 'C'), ('A', 'B'), ('A', 'B'), ('A', 'B'), ('A', 'B'), ('A', 'B'), ('A', 'B'), ('A', 'B'), ('A', 'B'), ('A', 'B'), ('A', 'B'), ('A', 'B'), ('A', 'B'), ('A', 'B'), ('A', 'B'), ('A', 'B'), ('A', 'B'), ('A', 'B'), ('A', 'B'), ('A', 'B'), ('A', 'B'), ('A', 'B'), ('A', 'B'), ('A', 'B'), ('A', 'B'), ('A', 'B'), ('A', 'B'), ('A', 'B'), ('A', 'B'), ('A', 'B'), ('A', 'B'), ('A', 'B'), ('A', 'B'), ('A', 'B'), ('D', 'E'), ('A', 'B'), ('A', 'B'), ('A', 'E'), ('A', 'B'), ('A', 'B'), ('A', 'B'), ('A', 'B'), ('A', 'B'), ('A', 'B'), ('A', 'B'), ('A', 'E'), ('A', 'B'), ('A', 'B'), ('A', 'B'), ('A', 'B'), ('A', 'B'), ('A', 'B'), ('A', 'B'), ('A', 'B'), ('A', 'B'), ('A', 'B'), ('A', 'B'), ('C', 'D'), ('A', 'B'), ('A', 'B'), ('A', 'B'), ('A', 'B'), ('A', 'E'), ('A', 'B'), ('A', 'B'), ('A', 'B'), ('A', 'B'), ('A', 'B'), ('A', 'B'), ('A', 'B'), ('A', 'B'), ('B', 'C'), ('A', 'B'), ('A', 'B'), ('A', 'B'), ('A', 'B'), ('A', 'B'), ('A', 'B'), ('B', 'E'), ('A', 'B'), ('A', 'B'), ('A', 'B'), ('A', 'B'), ('A', 'B'), ('A', 'B'), ('A', 'E'), ('A', 'B'), ('A', 'B'), ('A', 'B'), ('A', 'B'), ('A', 'B'), ('A', 'B'), ('A', 'B'), ('A', 'B'), ('A', 'B'), ('A', 'B'), ('A', 'B'), ('A', 'B'), ('A', 'B'), ('A', 'B'), ('A', 'B'), ('A', 'B'), ('A', 'B'), ('A', 'B'), ('A', 'B'), ('A', 'B'), ('A', 'B'), ('A', 'B'), ('A', 'B'), ('A', 'B'), ('A', 'B'), ('A', 'B'), ('A', 'E'), ('A', 'B'), ('B', 'D'), ('A', 'B'), ('A', 'B'), ('A', 'B'), ('A', 'B'), ('A', 'B'), ('A', 'B'), ('A', 'B'), ('A', 'B'), ('A', 'B'), ('A', 'B'), ('A', 'B'), ('A', 'B'), ('A', 'B'), ('A', 'B'), ('C', 'E'), ('A', 'B'), ('A', 'B'), ('B', 'E'), ('A', 'B'), ('A', 'B'), ('A', 'B'), ('A', 'B'), ('A', 'B'), ('A', 'B'), ('A', 'B'), ('A', 'B'), ('A', 'B'), ('A', 'B'), ('A', 'B'), ('A', 'B'), ('B', 'C'), ('A', 'B'), ('A', 'B'), ('A', 'E'), ('A', 'B'), ('A', 'B'), ('B', 'D'), ('A', 'B'), ('A', 'B'), ('A', 'B'), ('A', 'B'), ('A', 'B'), ('A', 'B'), ('A', 'B'), ('A', 'B'), ('A', 'B'), ('A', 'B'), ('A', 'B'), ('A', 'B'), ('A', 'B'), ('A', 'B'), ('A', 'C'), ('A', 'B'), ('A', 'B'), ('A', 'B'), ('A', 'B'), ('A', 'B'), ('A', 'B'), ('A', 'B'), ('A', 'B'), ('A', 'B'), ('B', 'D'), ('A', 'B'), ('A', 'B'), ('A', 'B'), ('A', 'B'), ('A', 'B'), ('A', 'B'), ('A', 'B'), ('A', 'B'), ('A', 'B'), ('A', 'B'), ('A', 'B'), ('A', 'B'), ('A', 'B'), ('A', 'B'), ('A', 'B'), ('A', 'B'), ('A', 'B'), ('A', 'B'), ('A', 'B'), ('A', 'B'), ('A', 'B'), ('A', 'B'), ('A', 'B'), ('A', 'B'), ('A', 'B'), ('A', 'B'), ('A', 'B'), ('A', 'B'), ('A', 'B'), ('A', 'B'), ('A', 'B'), ('A', 'B'), ('A', 'B'), ('A', 'B'), ('A', 'B'), ('A', 'B'), ('A', 'B'), ('B', 'C'), ('A', 'B'), ('A', 'B'), ('A', 'B'), ('A', 'B'), ('A', 'C'), ('A', 'B'), ('A', 'B'), ('A', 'B'), ('A', 'B'), ('A', 'B'), ('A', 'B'), ('A', 'B'), ('A', 'B'), ('A', 'B'), ('A', 'B'), ('A', 'B'), ('A', 'B'), ('A', 'B'), ('A', 'B'), ('A', 'B'), ('A', 'B'), ('A', 'B'), ('A', 'B'), ('A', 'B'), ('A', 'B'), ('A', 'B'), ('A', 'B'), ('A', 'B'), ('A', 'B'), ('A', 'B'), ('A', 'B'), ('A', 'B'), ('A', 'B'), ('A', 'B'), ('A', 'B'), ('A', 'B'), ('A', 'B'), ('A', 'B'), ('A', 'B'), ('A', 'B'), ('A', 'B'), ('A', 'B'), ('A', 'B'), ('A', 'B'), ('A', 'B'), ('A', 'B'), ('A', 'B'), ('D', 'E'), ('A', 'B'), ('A', 'B'), ('A', 'B'), ('A', 'B'), ('A', 'B'), ('A', 'B'), ('A', 'B'), ('A', 'B'), ('A', 'B'), ('A', 'B'), ('B', 'D'), ('A', 'B'), ('A', 'B'), ('A', 'B'), ('A', 'B'), ('A', 'B'), ('A', 'B'), ('A', 'B'), ('A', 'B'), ('A', 'B'), ('A', 'B'), ('A', 'B'), ('A', 'B'), ('A', 'B'), ('A', 'B'), ('A', 'B'), ('A', 'B'), ('A', 'B'), ('A', 'B'), ('C', 'E'), ('A', 'B'), ('A', 'B'), ('A', 'B'), ('A', 'B'), ('A', 'B'), ('A', 'D'), ('A', 'B'), ('A', 'B'), ('A', 'B'), ('A', 'B'), ('A', 'B'), ('A', 'B'), ('A', 'B'), ('A', 'B'), ('A', 'B'), ('A', 'B'), ('A', 'B'), ('A', 'B'), ('A', 'B'), ('A', 'B'), ('A', 'B'), ('A', 'B'), ('A', 'B'), ('A', 'B'), ('A', 'B'), ('A', 'B'), ('A', 'B'), ('A', 'B'), ('A', 'B'), ('A', 'B'), ('A', 'B'), ('A', 'B'), ('A', 'C'), ('A', 'B'), ('A', 'B'), ('A', 'B'), ('D', 'E'), ('A', 'B'), ('A', 'B'), ('B', 'D'), ('A', 'B'), ('A', 'B'), ('A', 'B'), ('C', 'D'), ('B', 'D'), ('A', 'B'), ('A', 'B'), ('B', 'E'), ('A', 'B'), ('A', 'C'), ('A', 'B'), ('A', 'B'), ('A', 'B'), ('A', 'B'), ('A', 'B'), ('A', 'B'), ('A', 'B'), ('A', 'B'), ('A', 'B'), ('A', 'B'), ('A', 'B'), ('A', 'B'), ('A', 'B'), ('A', 'B'), ('A', 'B'), ('A', 'B'), ('A', 'B'), ('A', 'B'), ('A', 'B'), ('A', 'B'), ('A', 'B'), ('A', 'B'), ('A', 'B'), ('A', 'B'), ('A', 'B'), ('A', 'B'), ('A', 'C'), ('A', 'B'), ('A', 'B'), ('A', 'B'), ('A', 'B'), ('A', 'B'), ('A', 'B'), ('A', 'B'), ('A', 'B'), ('A', 'B'), ('A', 'B'), ('A', 'B'), ('A', 'B'), ('A', 'B'), ('A', 'B'), ('A', 'B'), ('A', 'B'), ('A', 'E'), ('C', 'E'), ('A', 'B'), ('B', 'C'), ('A', 'B'), ('A', 'B'), ('A', 'B'), ('A', 'B'), ('A', 'B'), ('A', 'B'), ('A', 'B'), ('A', 'B'), ('A', 'B'), ('A', 'B'), ('A', 'B'), ('A', 'B'), ('A', 'B'), ('A', 'B'), ('A', 'B'), ('A', 'B'), ('A', 'B'), ('A', 'B'), ('A', 'B'), ('A', 'B'), ('A', 'B'), ('A', 'B'), ('A', 'B'), ('A', 'B'), ('A', 'B'), ('A', 'B'), ('A', 'B'), ('A', 'B'), ('A', 'B'), ('A', 'B'), ('A', 'B'), ('A', 'B'), ('A', 'B'), ('A', 'B'), ('A', 'B'), ('A', 'B'), ('A', 'B'), ('A', 'B'), ('A', 'B'), ('A', 'B'), ('A', 'B'), ('A', 'B'), ('A', 'B'), ('A', 'B'), ('A', 'B'), ('A', 'B'), ('A', 'B'), ('A', 'B'), ('A', 'B'), ('A', 'B'), ('A', 'B'), ('A', 'B'), ('A', 'B'), ('A', 'B'), ('A', 'B'), ('C', 'D'), ('A', 'B'), ('A', 'B'), ('A', 'B'), ('A', 'B'), ('A', 'B'), ('A', 'B'), ('A', 'B'), ('A', 'B'), ('A', 'B'), ('A', 'B'), ('A', 'B'), ('A', 'B'), ('A', 'B'), ('A', 'B'), ('A', 'B'), ('A', 'B'), ('A', 'B'), ('A', 'B'), ('A', 'B'), ('A', 'B'), ('A', 'B'), ('C', 'D'), ('A', 'B'), ('A', 'B'), ('A', 'B'), ('A', 'B'), ('A', 'B'), ('A', 'B'), ('A', 'B'), ('A', 'B'), ('A', 'B'), ('A', 'B'), ('A', 'B'), ('A', 'B'), ('A', 'B')]\n",
    "\n",
    "# 將組合轉换成字符串形式，以便绘制\n",
    "combinations_str = [f'{c[0]} - {c[1]}' for c in combinations]\n",
    "\n",
    "# 將選定的組合轉换成相應的索引以便绘制\n",
    "selected_combination_indices = [combinations.index(c) for c in selected_combinations]\n",
    "\n",
    "# 创建一个散布图\n",
    "plt.figure(figsize=(10, 6))\n",
    "plt.scatter(range(iterations), selected_combination_indices, marker='.', alpha=0.5)\n",
    "\n",
    "# 设置標籤\n",
    "plt.xlabel('Iterations')\n",
    "plt.ylabel('Selected Combinations')\n",
    "plt.yticks(range(len(combinations)), combinations_str)\n",
    "plt.title('Scatter Plot of Selected Combinations Over Iterations')\n",
    "\n",
    "# 顯示圖形\n",
    "plt.show()\n"
   ]
  },
  {
   "cell_type": "code",
   "execution_count": null,
   "metadata": {},
   "outputs": [],
   "source": [
    "time_points = list(range(0, (2500 +1), 100))\n",
    "plt.plot(time_points, compare_earn, marker='o')\n",
    "# 添加標題和標籤\n",
    "plt.title('Compare threshold')\n",
    "plt.xlabel('Threshold-the definition of prices')\n",
    "plt.ylabel('earn')\n",
    "\n",
    "# 顯示圖形\n",
    "plt.show()"
   ]
  },
  {
   "cell_type": "code",
   "execution_count": null,
   "metadata": {
    "colab": {
     "base_uri": "https://localhost:8080/"
    },
    "id": "T-ciq70JsVLX",
    "outputId": "cdd2e934-3f78-44b7-bd5d-d834db7d350e"
   },
   "outputs": [],
   "source": [
    "values = list(user_preferences.values())\n",
    "normalized_values = [value/sum(values) for value in values]\n",
    "normalized_user_preference = {key: normalized_value for key, normalized_value in zip(user_preferences.keys(), normalized_values)}\n",
    "normalized_user_preference"
   ]
  },
  {
   "cell_type": "code",
   "execution_count": null,
   "metadata": {
    "colab": {
     "base_uri": "https://localhost:8080/",
     "height": 472
    },
    "id": "lo-Wl9EgddYC",
    "outputId": "2036a1bd-5735-4b4c-a143-5a579f8dc3b5"
   },
   "outputs": [],
   "source": [
    "time_points = list(range(1, (times * iterations + 1)))\n",
    "plt.plot(time_points, a, marker='o')\n",
    "# 添加標題和標籤\n",
    "plt.title('Update Trend Graph')\n",
    "plt.xlabel('Time')\n",
    "plt.ylabel('Preference Update of E')\n",
    "\n",
    "# 顯示圖形\n",
    "plt.show()"
   ]
  }
 ],
 "metadata": {
  "colab": {
   "provenance": []
  },
  "kernelspec": {
   "display_name": "Python 3",
   "language": "python",
   "name": "python3"
  },
  "language_info": {
   "codemirror_mode": {
    "name": "ipython",
    "version": 3
   },
   "file_extension": ".py",
   "mimetype": "text/x-python",
   "name": "python",
   "nbconvert_exporter": "python",
   "pygments_lexer": "ipython3",
   "version": "0.0.0"
  }
 },
 "nbformat": 4,
 "nbformat_minor": 1
}
